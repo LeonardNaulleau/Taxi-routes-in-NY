{
 "cells": [
  {
   "cell_type": "code",
   "execution_count": 77,
   "metadata": {},
   "outputs": [],
   "source": [
    "#Step 1\n",
    "# Load the dataset\n",
    "data_path = 'Train.csv'  # Replace with the path to your downloaded dataset\n",
    "df = pd.read_csv(data_path)"
   ]
  },
  {
   "cell_type": "code",
   "execution_count": 78,
   "metadata": {},
   "outputs": [
    {
     "name": "stdout",
     "output_type": "stream",
     "text": [
      "User Guide: https://docs.kepler.gl/docs/keplergl-jupyter\n"
     ]
    }
   ],
   "source": [
    "#Step 2\n",
    "# Convert pickup and dropoff datetime columns to datetime format\n",
    "df['pickup_datetime'] = pd.to_datetime(df['pickup_datetime'])\n",
    "df['dropoff_datetime'] = pd.to_datetime(df['dropoff_datetime'])\n",
    "\n",
    "# Create an empty Kepler.gl map\n",
    "map_1 = KeplerGl(height=600)\n",
    "\n",
    "# Randomly sample 1000 data points to make less laggy\n",
    "sampled_df = df.sample(n=5000, random_state=42)\n",
    "\n",
    "# Add the dataset to the map\n",
    "map_1.add_data(data=sampled_df, name='NYC Taxi Trips')\n"
   ]
  },
  {
   "cell_type": "code",
   "execution_count": 79,
   "metadata": {},
   "outputs": [
    {
     "data": {
      "application/vnd.jupyter.widget-view+json": {
       "model_id": "45c92528c0d04e3ea5657754558be495",
       "version_major": 2,
       "version_minor": 0
      },
      "text/plain": [
       "KeplerGl(config={'mapStyle': {'styleType': 'dark'}, 'mapState': {'latitude': 40.7128, 'longitude': -74.006, 'z…"
      ]
     },
     "metadata": {},
     "output_type": "display_data"
    }
   ],
   "source": [
    "#Step 3 : configure and print map\n",
    "# Configure the map settings and layers\n",
    "map_1.config = {\n",
    "    'mapStyle': {\n",
    "        'styleType': 'dark'\n",
    "    },\n",
    "    'mapState': {\n",
    "        'latitude': 40.7128,\n",
    "        'longitude': -74.0060,\n",
    "        'zoom': 20,\n",
    "        'pitch': 50,\n",
    "        'bearing': 0,\n",
    "    },\n",
    "    'visState': {\n",
    "        'layers': [\n",
    "            {\n",
    "                'id': 'pickup_points',\n",
    "                'type': 'point',\n",
    "                'config': {\n",
    "                    'dataId': 'NYC Taxi Trips',\n",
    "                    'label': 'Pickup Points',\n",
    "                    'color': [0, 255, 255],  # cyan\n",
    "                    'columns': {\n",
    "                        'lat': 'pickup_latitude',\n",
    "                        'lng': 'pickup_longitude',\n",
    "                        'altitude': None\n",
    "                    },\n",
    "                    'isVisible': True,\n",
    "                    'visConfig': {\n",
    "                        'radius':2,\n",
    "                        'opacity':0.3\n",
    "                    }\n",
    "                }\n",
    "            },\n",
    "            {\n",
    "                'id': 'dropoff_points',\n",
    "                'type': 'point',\n",
    "                'config': {\n",
    "                    'dataId': 'NYC Taxi Trips',\n",
    "                    'label': 'Dropoff Points',\n",
    "                    'color': [255, 105, 180], #pink\n",
    "                    'columns': {\n",
    "                        'lat': 'dropoff_latitude',\n",
    "                        'lng': 'dropoff_longitude',\n",
    "                        'altitude': None\n",
    "                    },\n",
    "                    'isVisible': True,\n",
    "                    'visConfig': {\n",
    "                        'radius':2,\n",
    "                        'opacity':0.3,\n",
    "                    }\n",
    "                }\n",
    "            },\n",
    "            {\n",
    "                'id': 'trip_routes',\n",
    "    'type': 'arc',\n",
    "    'config': {\n",
    "        'dataId': 'NYC Taxi Trips',\n",
    "        'label': 'Trip Routes',\n",
    "        'color': [0, 255, 255],\n",
    "        'columns': {\n",
    "            'lat0': 'pickup_latitude',\n",
    "            'lng0': 'pickup_longitude',\n",
    "            'lat1': 'dropoff_latitude',\n",
    "            'lng1': 'dropoff_longitude'\n",
    "        },\n",
    "        'isVisible': True,\n",
    "        'visConfig': {\n",
    "            'opacity': 0.3,\n",
    "            'thickness': 0.3,\n",
    "            'colorRange': {\n",
    "                'name': 'Global Warming',\n",
    "                'type': 'sequential',\n",
    "                'category': 'Uber',\n",
    "                'colors': [\n",
    "                    '#00FFFF',  # Cyan\n",
    "                    '#63B8FF',\n",
    "                    '#9DC7FF',\n",
    "                    '#D8D8FF',\n",
    "                    '#FFB6C1',  # Pink\n",
    "                ]\n",
    "            },\n",
    "            'sizeRange': [0, 10],\n",
    "            'targetColor': [255, 105, 180],\n",
    "            'hi-precision': False\n",
    "        }\n",
    "    },\n",
    "    'visualChannels': {\n",
    "        'colorField': None,\n",
    "        'colorScale': 'quantile',\n",
    "        'sizeField': None,\n",
    "        'sizeScale': 'linear'\n",
    "                }\n",
    "            }\n",
    "        ]\n",
    "    }\n",
    "}\n",
    "\n",
    "\n",
    "# Render the map\n",
    "map_1\n"
   ]
  }
 ],
 "metadata": {
  "kernelspec": {
   "display_name": "keplergl_env",
   "language": "python",
   "name": "python3"
  },
  "language_info": {
   "codemirror_mode": {
    "name": "ipython",
    "version": 3
   },
   "file_extension": ".py",
   "mimetype": "text/x-python",
   "name": "python",
   "nbconvert_exporter": "python",
   "pygments_lexer": "ipython3",
   "version": "3.8.16"
  },
  "orig_nbformat": 4
 },
 "nbformat": 4,
 "nbformat_minor": 2
}
